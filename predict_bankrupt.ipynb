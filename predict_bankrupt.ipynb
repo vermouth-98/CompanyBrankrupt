{
 "metadata": {
  "language_info": {
   "codemirror_mode": {
    "name": "ipython",
    "version": 3
   },
   "file_extension": ".py",
   "mimetype": "text/x-python",
   "name": "python",
   "nbconvert_exporter": "python",
   "pygments_lexer": "ipython3",
   "version": "3.8.5-final"
  },
  "orig_nbformat": 2,
  "kernelspec": {
   "name": "python3",
   "display_name": "Python 3",
   "language": "python"
  }
 },
 "nbformat": 4,
 "nbformat_minor": 2,
 "cells": [
  {
   "cell_type": "code",
   "execution_count": 2,
   "metadata": {},
   "outputs": [],
   "source": [
    "import tensorflow as tf \n",
    "import tensorflow_docs as tfds \n",
    "import numpy as np \n",
    "import pandas as pd \n",
    "from tensorflow import keras\n",
    "from tensorflow.keras import layers\n",
    "from sklearn.model_selection import train_test_split\n",
    "import tensorflow_docs.modeling\n",
    "import IPython\n",
    "import kerastuner as kt\n",
    "from tensorflow.keras import regularizers"
   ]
  },
  {
   "cell_type": "code",
   "execution_count": 3,
   "metadata": {},
   "outputs": [
    {
     "output_type": "execute_result",
     "data": {
      "text/plain": [
       "    ROA(C) before interest and depreciation before interest  \\\n",
       "0                                           0.370594          \n",
       "1                                           0.464291          \n",
       "2                                           0.426071          \n",
       "3                                           0.399844          \n",
       "4                                           0.465022          \n",
       "\n",
       "    ROA(A) before interest and % after tax  \\\n",
       "0                                 0.424389   \n",
       "1                                 0.538214   \n",
       "2                                 0.499019   \n",
       "3                                 0.451265   \n",
       "4                                 0.538432   \n",
       "\n",
       "    ROA(B) before interest and depreciation after tax  \\\n",
       "0                                           0.405750    \n",
       "1                                           0.516730    \n",
       "2                                           0.472295    \n",
       "3                                           0.457733    \n",
       "4                                           0.522298    \n",
       "\n",
       "    operating gross margin   realized sales gross margin  \\\n",
       "0                 0.601457                      0.601457   \n",
       "1                 0.610235                      0.610235   \n",
       "2                 0.601450                      0.601364   \n",
       "3                 0.583541                      0.583541   \n",
       "4                 0.598783                      0.598783   \n",
       "\n",
       "    operating profit rate   tax Pre-net interest rate  \\\n",
       "0                0.998969                    0.796887   \n",
       "1                0.998946                    0.797380   \n",
       "2                0.998857                    0.796403   \n",
       "3                0.998700                    0.796967   \n",
       "4                0.998973                    0.797366   \n",
       "\n",
       "    after-tax net interest rate   non-industry income and expenditure/revenue  \\\n",
       "0                      0.808809                                      0.302646   \n",
       "1                      0.809301                                      0.303556   \n",
       "2                      0.808388                                      0.302035   \n",
       "3                      0.808966                                      0.303350   \n",
       "4                      0.809304                                      0.303475   \n",
       "\n",
       "    continuous interest rate (after tax)  ...  net income to total assets  \\\n",
       "0                               0.780985  ...                    0.716845   \n",
       "1                               0.781506  ...                    0.795297   \n",
       "2                               0.780284  ...                    0.774670   \n",
       "3                               0.781241  ...                    0.739555   \n",
       "4                               0.781550  ...                    0.795016   \n",
       "\n",
       "   total assets to GNP price  No-credit interval  Gross profit to Sales  \\\n",
       "0                   0.009219            0.622879               0.601453   \n",
       "1                   0.008323            0.623652               0.610237   \n",
       "2                   0.040003            0.623841               0.601449   \n",
       "3                   0.003252            0.622929               0.583538   \n",
       "4                   0.003878            0.623521               0.598782   \n",
       "\n",
       "   Net income to stockholder's Equity  liability to equity  \\\n",
       "0                            0.827890             0.290202   \n",
       "1                            0.839969             0.283846   \n",
       "2                            0.836774             0.290189   \n",
       "3                            0.834697             0.281721   \n",
       "4                            0.839973             0.278514   \n",
       "\n",
       "   Degree of financial leverage (DFL)  \\\n",
       "0                            0.026601   \n",
       "1                            0.264577   \n",
       "2                            0.026555   \n",
       "3                            0.026697   \n",
       "4                            0.024752   \n",
       "\n",
       "   Interest coverage ratio( Interest expense to EBIT )  \\\n",
       "0                                           0.564050     \n",
       "1                                           0.570175     \n",
       "2                                           0.563706     \n",
       "3                                           0.564663     \n",
       "4                                           0.575617     \n",
       "\n",
       "   one if net income was negative for the last two year zero otherwise  \\\n",
       "0                                                  1                     \n",
       "1                                                  1                     \n",
       "2                                                  1                     \n",
       "3                                                  1                     \n",
       "4                                                  1                     \n",
       "\n",
       "   equity to liability  \n",
       "0             0.016469  \n",
       "1             0.020794  \n",
       "2             0.016474  \n",
       "3             0.023982  \n",
       "4             0.035490  \n",
       "\n",
       "[5 rows x 95 columns]"
      ],
      "text/html": "<div>\n<style scoped>\n    .dataframe tbody tr th:only-of-type {\n        vertical-align: middle;\n    }\n\n    .dataframe tbody tr th {\n        vertical-align: top;\n    }\n\n    .dataframe thead th {\n        text-align: right;\n    }\n</style>\n<table border=\"1\" class=\"dataframe\">\n  <thead>\n    <tr style=\"text-align: right;\">\n      <th></th>\n      <th>ROA(C) before interest and depreciation before interest</th>\n      <th>ROA(A) before interest and % after tax</th>\n      <th>ROA(B) before interest and depreciation after tax</th>\n      <th>operating gross margin</th>\n      <th>realized sales gross margin</th>\n      <th>operating profit rate</th>\n      <th>tax Pre-net interest rate</th>\n      <th>after-tax net interest rate</th>\n      <th>non-industry income and expenditure/revenue</th>\n      <th>continuous interest rate (after tax)</th>\n      <th>...</th>\n      <th>net income to total assets</th>\n      <th>total assets to GNP price</th>\n      <th>No-credit interval</th>\n      <th>Gross profit to Sales</th>\n      <th>Net income to stockholder's Equity</th>\n      <th>liability to equity</th>\n      <th>Degree of financial leverage (DFL)</th>\n      <th>Interest coverage ratio( Interest expense to EBIT )</th>\n      <th>one if net income was negative for the last two year zero otherwise</th>\n      <th>equity to liability</th>\n    </tr>\n  </thead>\n  <tbody>\n    <tr>\n      <th>0</th>\n      <td>0.370594</td>\n      <td>0.424389</td>\n      <td>0.405750</td>\n      <td>0.601457</td>\n      <td>0.601457</td>\n      <td>0.998969</td>\n      <td>0.796887</td>\n      <td>0.808809</td>\n      <td>0.302646</td>\n      <td>0.780985</td>\n      <td>...</td>\n      <td>0.716845</td>\n      <td>0.009219</td>\n      <td>0.622879</td>\n      <td>0.601453</td>\n      <td>0.827890</td>\n      <td>0.290202</td>\n      <td>0.026601</td>\n      <td>0.564050</td>\n      <td>1</td>\n      <td>0.016469</td>\n    </tr>\n    <tr>\n      <th>1</th>\n      <td>0.464291</td>\n      <td>0.538214</td>\n      <td>0.516730</td>\n      <td>0.610235</td>\n      <td>0.610235</td>\n      <td>0.998946</td>\n      <td>0.797380</td>\n      <td>0.809301</td>\n      <td>0.303556</td>\n      <td>0.781506</td>\n      <td>...</td>\n      <td>0.795297</td>\n      <td>0.008323</td>\n      <td>0.623652</td>\n      <td>0.610237</td>\n      <td>0.839969</td>\n      <td>0.283846</td>\n      <td>0.264577</td>\n      <td>0.570175</td>\n      <td>1</td>\n      <td>0.020794</td>\n    </tr>\n    <tr>\n      <th>2</th>\n      <td>0.426071</td>\n      <td>0.499019</td>\n      <td>0.472295</td>\n      <td>0.601450</td>\n      <td>0.601364</td>\n      <td>0.998857</td>\n      <td>0.796403</td>\n      <td>0.808388</td>\n      <td>0.302035</td>\n      <td>0.780284</td>\n      <td>...</td>\n      <td>0.774670</td>\n      <td>0.040003</td>\n      <td>0.623841</td>\n      <td>0.601449</td>\n      <td>0.836774</td>\n      <td>0.290189</td>\n      <td>0.026555</td>\n      <td>0.563706</td>\n      <td>1</td>\n      <td>0.016474</td>\n    </tr>\n    <tr>\n      <th>3</th>\n      <td>0.399844</td>\n      <td>0.451265</td>\n      <td>0.457733</td>\n      <td>0.583541</td>\n      <td>0.583541</td>\n      <td>0.998700</td>\n      <td>0.796967</td>\n      <td>0.808966</td>\n      <td>0.303350</td>\n      <td>0.781241</td>\n      <td>...</td>\n      <td>0.739555</td>\n      <td>0.003252</td>\n      <td>0.622929</td>\n      <td>0.583538</td>\n      <td>0.834697</td>\n      <td>0.281721</td>\n      <td>0.026697</td>\n      <td>0.564663</td>\n      <td>1</td>\n      <td>0.023982</td>\n    </tr>\n    <tr>\n      <th>4</th>\n      <td>0.465022</td>\n      <td>0.538432</td>\n      <td>0.522298</td>\n      <td>0.598783</td>\n      <td>0.598783</td>\n      <td>0.998973</td>\n      <td>0.797366</td>\n      <td>0.809304</td>\n      <td>0.303475</td>\n      <td>0.781550</td>\n      <td>...</td>\n      <td>0.795016</td>\n      <td>0.003878</td>\n      <td>0.623521</td>\n      <td>0.598782</td>\n      <td>0.839973</td>\n      <td>0.278514</td>\n      <td>0.024752</td>\n      <td>0.575617</td>\n      <td>1</td>\n      <td>0.035490</td>\n    </tr>\n  </tbody>\n</table>\n<p>5 rows × 95 columns</p>\n</div>"
     },
     "metadata": {},
     "execution_count": 3
    }
   ],
   "source": [
    "data_input = pd.read_csv(\"data.csv\")\n",
    "data_input = data_input.dropna()\n",
    "class_name = []\n",
    "# for name, columns in data_input.items():\n",
    "#     class_name.append(name)\n",
    "# class_name\n",
    "data_features = data_input.copy()\n",
    "data_label = data_features.pop('Bankrupt?')\n",
    "data_features.head()"
   ]
  },
  {
   "cell_type": "code",
   "execution_count": 50,
   "metadata": {},
   "outputs": [
    {
     "output_type": "execute_result",
     "data": {
      "text/plain": [
       "0    6599\n",
       "1     220\n",
       "Name: Bankrupt?, dtype: int64"
      ]
     },
     "metadata": {},
     "execution_count": 50
    }
   ],
   "source": [
    "data_label.value_counts()"
   ]
  },
  {
   "cell_type": "code",
   "execution_count": 4,
   "metadata": {},
   "outputs": [],
   "source": [
    "X_train, X_test, y_train, y_test = train_test_split(np.array(data_features),np.array(data_label), test_size= 0.2, random_state= 42)\n"
   ]
  },
  {
   "cell_type": "code",
   "execution_count": 5,
   "metadata": {},
   "outputs": [],
   "source": [
    "# normalizer dữ liệu về cùng 1 khoảng giá trị \n",
    "normalizer = tf.keras.layers.experimental.preprocessing.Normalization()\n",
    "normalizer.adapt(np.array(data_features))"
   ]
  },
  {
   "cell_type": "code",
   "execution_count": 6,
   "metadata": {},
   "outputs": [],
   "source": [
    "def callbacks ():\n",
    "    return[\n",
    "        tfds.modeling.EpochDots(),\n",
    "        tf.keras.callbacks.EarlyStopping(monitor = 'val_loss',patience= 200)\n",
    "    ]"
   ]
  },
  {
   "cell_type": "code",
   "execution_count": 7,
   "metadata": {},
   "outputs": [],
   "source": [
    "def build_model(hp):\n",
    "    model = keras.Sequential()\n",
    "    model.add(normalizer)\n",
    "    hp_int = hp.Choice('number', values =[1,2,3,4,5])\n",
    "    for i in range(hp_int):\n",
    "        hp_units = hp.Choice('units', values = [32,64,128,512])\n",
    "        hp_regu =hp.Choice('regu', values = [0.1,0.01,0.001,0.0001])\n",
    "        model.add(layers.Dense(units = hp_units, kernel_regularizer=regularizers.l2(hp_regu), activation= 'elu'))\n",
    "        hp_rate = hp.Choice( 'rate ', values = [0.0,0.2,0.3,0.4,0.5])\n",
    "        model.add(layers.Dropout(hp_rate))\n",
    "    model.add(layers.Dense(1))\n",
    "    model.compile(\n",
    "        optimizer= 'adam',\n",
    "        loss = keras.losses.BinaryCrossentropy(from_logits = True),\n",
    "        metrics = tf.metrics.BinaryAccuracy(threshold = 0.0)\n",
    "    )\n",
    "    return model"
   ]
  },
  {
   "cell_type": "code",
   "execution_count": 20,
   "metadata": {},
   "outputs": [],
   "source": [
    "class ClearTrainingOutput(tf.keras.callbacks.Callback):\n",
    "    def on_train_end(*args, **kwargs):\n",
    "        IPython.display.clear_output(wait = True)"
   ]
  },
  {
   "cell_type": "code",
   "execution_count": 21,
   "metadata": {},
   "outputs": [],
   "source": [
    "tuner = kt.Hyperband(\n",
    "    build_model,\n",
    "    objective='val_binary_accuracy',\n",
    "    max_epochs = 10,\n",
    "    factor = 3,\n",
    "    directory = 'my_dir',\n",
    "    project_name = 'my_model'\n",
    ")"
   ]
  },
  {
   "cell_type": "code",
   "execution_count": 22,
   "metadata": {},
   "outputs": [
    {
     "output_type": "stream",
     "name": "stdout",
     "text": [
      "Trial 30 Complete [00h 00m 13s]\nval_binary_accuracy: 0.9670087695121765\n\nBest val_binary_accuracy So Far: 0.9670087695121765\nTotal elapsed time: 00h 03m 38s\nINFO:tensorflow:Oracle triggered exit\n"
     ]
    }
   ],
   "source": [
    "tuner.search(X_train, y_train, epochs = 10, validation_data = (X_test, y_test), callbacks= [ClearTrainingOutput(), callbacks()])\n"
   ]
  },
  {
   "cell_type": "code",
   "execution_count": 23,
   "metadata": {},
   "outputs": [
    {
     "output_type": "execute_result",
     "data": {
      "text/plain": [
       "{'number': 3,\n",
       " 'units': 64,\n",
       " 'regu': 0.01,\n",
       " 'rate ': 0.5,\n",
       " 'tuner/epochs': 10,\n",
       " 'tuner/initial_epoch': 4,\n",
       " 'tuner/bracket': 2,\n",
       " 'tuner/round': 2,\n",
       " 'tuner/trial_id': '83f72381a03558b11b0779b021e9e58f'}"
      ]
     },
     "metadata": {},
     "execution_count": 23
    }
   ],
   "source": [
    "best_hps = tuner.get_best_hyperparameters(num_trials = 1)[0]\n",
    "best_hps.values\n"
   ]
  },
  {
   "cell_type": "code",
   "execution_count": 24,
   "metadata": {},
   "outputs": [],
   "source": [
    "# print(f\"\"\"\n",
    "# The hyperparameter search is complete. The optimal number of units in the first densely-connected\n",
    "# layer is {best_hps.get('units')} , the optimal rate for the optimizer\n",
    "# is {best_hps.get('rate ')} and {best_hps.get('int')} of layers.\n",
    "# \"\"\")"
   ]
  },
  {
   "cell_type": "code",
   "execution_count": 40,
   "metadata": {},
   "outputs": [
    {
     "output_type": "stream",
     "name": "stdout",
     "text": [
      "\n",
      "Epoch: 0, binary_accuracy:0.8983,  loss:1.7809,  val_binary_accuracy:0.9655,  val_loss:1.1760,  \n",
      "....................................................................................................\n",
      "Epoch: 100, binary_accuracy:0.9672,  loss:0.1091,  val_binary_accuracy:0.9655,  val_loss:0.1142,  \n",
      "....................................................................................................\n",
      "Epoch: 200, binary_accuracy:0.9698,  loss:0.1101,  val_binary_accuracy:0.9663,  val_loss:0.1185,  \n",
      "....................................................................................................\n",
      "Epoch: 300, binary_accuracy:0.9676,  loss:0.1085,  val_binary_accuracy:0.9655,  val_loss:0.1125,  \n",
      "....................................................................................................\n",
      "Epoch: 400, binary_accuracy:0.9694,  loss:0.1115,  val_binary_accuracy:0.9648,  val_loss:0.1170,  \n",
      "...................................................................................................."
     ]
    }
   ],
   "source": [
    "my_model = tuner.hypermodel.build(best_hps)\n",
    "history = my_model.fit(X_train, y_train, epochs = 500, validation_data = (X_test, y_test), callbacks = callbacks(),verbose = 0)"
   ]
  },
  {
   "cell_type": "code",
   "execution_count": 43,
   "metadata": {},
   "outputs": [
    {
     "output_type": "stream",
     "name": "stdout",
     "text": [
      "Model: \"sequential\"\n_________________________________________________________________\nLayer (type)                 Output Shape              Param #   \n=================================================================\nnormalization (Normalization (None, 95)                191       \n_________________________________________________________________\ndense (Dense)                (None, 64)                6144      \n_________________________________________________________________\ndropout (Dropout)            (None, 64)                0         \n_________________________________________________________________\ndense_1 (Dense)              (None, 64)                4160      \n_________________________________________________________________\ndropout_1 (Dropout)          (None, 64)                0         \n_________________________________________________________________\ndense_2 (Dense)              (None, 64)                4160      \n_________________________________________________________________\ndropout_2 (Dropout)          (None, 64)                0         \n_________________________________________________________________\ndense_3 (Dense)              (None, 1)                 65        \n=================================================================\nTotal params: 14,720\nTrainable params: 14,529\nNon-trainable params: 191\n_________________________________________________________________\n"
     ]
    }
   ],
   "source": [
    "my_model.summary()"
   ]
  },
  {
   "cell_type": "code",
   "execution_count": 44,
   "metadata": {},
   "outputs": [
    {
     "output_type": "display_data",
     "data": {
      "text/plain": "<Figure size 432x288 with 1 Axes>",
      "image/svg+xml": "<?xml version=\"1.0\" encoding=\"utf-8\" standalone=\"no\"?>\r\n<!DOCTYPE svg PUBLIC \"-//W3C//DTD SVG 1.1//EN\"\r\n  \"http://www.w3.org/Graphics/SVG/1.1/DTD/svg11.dtd\">\r\n<!-- Created with matplotlib (https://matplotlib.org/) -->\r\n<svg height=\"248.518125pt\" version=\"1.1\" viewBox=\"0 0 378.465625 248.518125\" width=\"378.465625pt\" xmlns=\"http://www.w3.org/2000/svg\" xmlns:xlink=\"http://www.w3.org/1999/xlink\">\r\n <metadata>\r\n  <rdf:RDF xmlns:cc=\"http://creativecommons.org/ns#\" xmlns:dc=\"http://purl.org/dc/elements/1.1/\" xmlns:rdf=\"http://www.w3.org/1999/02/22-rdf-syntax-ns#\">\r\n   <cc:Work>\r\n    <dc:type rdf:resource=\"http://purl.org/dc/dcmitype/StillImage\"/>\r\n    <dc:date>2021-02-05T23:30:48.404488</dc:date>\r\n    <dc:format>image/svg+xml</dc:format>\r\n    <dc:creator>\r\n     <cc:Agent>\r\n      <dc:title>Matplotlib v3.3.2, https://matplotlib.org/</dc:title>\r\n     </cc:Agent>\r\n    </dc:creator>\r\n   </cc:Work>\r\n  </rdf:RDF>\r\n </metadata>\r\n <defs>\r\n  <style type=\"text/css\">*{stroke-linecap:butt;stroke-linejoin:round;}</style>\r\n </defs>\r\n <g id=\"figure_1\">\r\n  <g id=\"patch_1\">\r\n   <path d=\"M 0 248.518125 \r\nL 378.465625 248.518125 \r\nL 378.465625 0 \r\nL 0 0 \r\nz\r\n\" style=\"fill:none;\"/>\r\n  </g>\r\n  <g id=\"axes_1\">\r\n   <g id=\"patch_2\">\r\n    <path d=\"M 36.465625 224.64 \r\nL 371.265625 224.64 \r\nL 371.265625 7.2 \r\nL 36.465625 7.2 \r\nz\r\n\" style=\"fill:#ffffff;\"/>\r\n   </g>\r\n   <g id=\"matplotlib.axis_1\">\r\n    <g id=\"xtick_1\">\r\n     <g id=\"line2d_1\">\r\n      <defs>\r\n       <path d=\"M 0 0 \r\nL 0 3.5 \r\n\" id=\"m6e961ee26f\" style=\"stroke:#000000;stroke-width:0.8;\"/>\r\n      </defs>\r\n      <g>\r\n       <use style=\"stroke:#000000;stroke-width:0.8;\" x=\"51.683807\" xlink:href=\"#m6e961ee26f\" y=\"224.64\"/>\r\n      </g>\r\n     </g>\r\n     <g id=\"text_1\">\r\n      <!-- 0 -->\r\n      <g transform=\"translate(48.502557 239.238437)scale(0.1 -0.1)\">\r\n       <defs>\r\n        <path d=\"M 31.78125 66.40625 \r\nQ 24.171875 66.40625 20.328125 58.90625 \r\nQ 16.5 51.421875 16.5 36.375 \r\nQ 16.5 21.390625 20.328125 13.890625 \r\nQ 24.171875 6.390625 31.78125 6.390625 \r\nQ 39.453125 6.390625 43.28125 13.890625 \r\nQ 47.125 21.390625 47.125 36.375 \r\nQ 47.125 51.421875 43.28125 58.90625 \r\nQ 39.453125 66.40625 31.78125 66.40625 \r\nz\r\nM 31.78125 74.21875 \r\nQ 44.046875 74.21875 50.515625 64.515625 \r\nQ 56.984375 54.828125 56.984375 36.375 \r\nQ 56.984375 17.96875 50.515625 8.265625 \r\nQ 44.046875 -1.421875 31.78125 -1.421875 \r\nQ 19.53125 -1.421875 13.0625 8.265625 \r\nQ 6.59375 17.96875 6.59375 36.375 \r\nQ 6.59375 54.828125 13.0625 64.515625 \r\nQ 19.53125 74.21875 31.78125 74.21875 \r\nz\r\n\" id=\"DejaVuSans-48\"/>\r\n       </defs>\r\n       <use xlink:href=\"#DejaVuSans-48\"/>\r\n      </g>\r\n     </g>\r\n    </g>\r\n    <g id=\"xtick_2\">\r\n     <g id=\"line2d_2\">\r\n      <g>\r\n       <use style=\"stroke:#000000;stroke-width:0.8;\" x=\"112.678524\" xlink:href=\"#m6e961ee26f\" y=\"224.64\"/>\r\n      </g>\r\n     </g>\r\n     <g id=\"text_2\">\r\n      <!-- 100 -->\r\n      <g transform=\"translate(103.134774 239.238437)scale(0.1 -0.1)\">\r\n       <defs>\r\n        <path d=\"M 12.40625 8.296875 \r\nL 28.515625 8.296875 \r\nL 28.515625 63.921875 \r\nL 10.984375 60.40625 \r\nL 10.984375 69.390625 \r\nL 28.421875 72.90625 \r\nL 38.28125 72.90625 \r\nL 38.28125 8.296875 \r\nL 54.390625 8.296875 \r\nL 54.390625 0 \r\nL 12.40625 0 \r\nz\r\n\" id=\"DejaVuSans-49\"/>\r\n       </defs>\r\n       <use xlink:href=\"#DejaVuSans-49\"/>\r\n       <use x=\"63.623047\" xlink:href=\"#DejaVuSans-48\"/>\r\n       <use x=\"127.246094\" xlink:href=\"#DejaVuSans-48\"/>\r\n      </g>\r\n     </g>\r\n    </g>\r\n    <g id=\"xtick_3\">\r\n     <g id=\"line2d_3\">\r\n      <g>\r\n       <use style=\"stroke:#000000;stroke-width:0.8;\" x=\"173.67324\" xlink:href=\"#m6e961ee26f\" y=\"224.64\"/>\r\n      </g>\r\n     </g>\r\n     <g id=\"text_3\">\r\n      <!-- 200 -->\r\n      <g transform=\"translate(164.12949 239.238437)scale(0.1 -0.1)\">\r\n       <defs>\r\n        <path d=\"M 19.1875 8.296875 \r\nL 53.609375 8.296875 \r\nL 53.609375 0 \r\nL 7.328125 0 \r\nL 7.328125 8.296875 \r\nQ 12.9375 14.109375 22.625 23.890625 \r\nQ 32.328125 33.6875 34.8125 36.53125 \r\nQ 39.546875 41.84375 41.421875 45.53125 \r\nQ 43.3125 49.21875 43.3125 52.78125 \r\nQ 43.3125 58.59375 39.234375 62.25 \r\nQ 35.15625 65.921875 28.609375 65.921875 \r\nQ 23.96875 65.921875 18.8125 64.3125 \r\nQ 13.671875 62.703125 7.8125 59.421875 \r\nL 7.8125 69.390625 \r\nQ 13.765625 71.78125 18.9375 73 \r\nQ 24.125 74.21875 28.421875 74.21875 \r\nQ 39.75 74.21875 46.484375 68.546875 \r\nQ 53.21875 62.890625 53.21875 53.421875 \r\nQ 53.21875 48.921875 51.53125 44.890625 \r\nQ 49.859375 40.875 45.40625 35.40625 \r\nQ 44.1875 33.984375 37.640625 27.21875 \r\nQ 31.109375 20.453125 19.1875 8.296875 \r\nz\r\n\" id=\"DejaVuSans-50\"/>\r\n       </defs>\r\n       <use xlink:href=\"#DejaVuSans-50\"/>\r\n       <use x=\"63.623047\" xlink:href=\"#DejaVuSans-48\"/>\r\n       <use x=\"127.246094\" xlink:href=\"#DejaVuSans-48\"/>\r\n      </g>\r\n     </g>\r\n    </g>\r\n    <g id=\"xtick_4\">\r\n     <g id=\"line2d_4\">\r\n      <g>\r\n       <use style=\"stroke:#000000;stroke-width:0.8;\" x=\"234.667957\" xlink:href=\"#m6e961ee26f\" y=\"224.64\"/>\r\n      </g>\r\n     </g>\r\n     <g id=\"text_4\">\r\n      <!-- 300 -->\r\n      <g transform=\"translate(225.124207 239.238437)scale(0.1 -0.1)\">\r\n       <defs>\r\n        <path d=\"M 40.578125 39.3125 \r\nQ 47.65625 37.796875 51.625 33 \r\nQ 55.609375 28.21875 55.609375 21.1875 \r\nQ 55.609375 10.40625 48.1875 4.484375 \r\nQ 40.765625 -1.421875 27.09375 -1.421875 \r\nQ 22.515625 -1.421875 17.65625 -0.515625 \r\nQ 12.796875 0.390625 7.625 2.203125 \r\nL 7.625 11.71875 \r\nQ 11.71875 9.328125 16.59375 8.109375 \r\nQ 21.484375 6.890625 26.8125 6.890625 \r\nQ 36.078125 6.890625 40.9375 10.546875 \r\nQ 45.796875 14.203125 45.796875 21.1875 \r\nQ 45.796875 27.640625 41.28125 31.265625 \r\nQ 36.765625 34.90625 28.71875 34.90625 \r\nL 20.21875 34.90625 \r\nL 20.21875 43.015625 \r\nL 29.109375 43.015625 \r\nQ 36.375 43.015625 40.234375 45.921875 \r\nQ 44.09375 48.828125 44.09375 54.296875 \r\nQ 44.09375 59.90625 40.109375 62.90625 \r\nQ 36.140625 65.921875 28.71875 65.921875 \r\nQ 24.65625 65.921875 20.015625 65.03125 \r\nQ 15.375 64.15625 9.8125 62.3125 \r\nL 9.8125 71.09375 \r\nQ 15.4375 72.65625 20.34375 73.4375 \r\nQ 25.25 74.21875 29.59375 74.21875 \r\nQ 40.828125 74.21875 47.359375 69.109375 \r\nQ 53.90625 64.015625 53.90625 55.328125 \r\nQ 53.90625 49.265625 50.4375 45.09375 \r\nQ 46.96875 40.921875 40.578125 39.3125 \r\nz\r\n\" id=\"DejaVuSans-51\"/>\r\n       </defs>\r\n       <use xlink:href=\"#DejaVuSans-51\"/>\r\n       <use x=\"63.623047\" xlink:href=\"#DejaVuSans-48\"/>\r\n       <use x=\"127.246094\" xlink:href=\"#DejaVuSans-48\"/>\r\n      </g>\r\n     </g>\r\n    </g>\r\n    <g id=\"xtick_5\">\r\n     <g id=\"line2d_5\">\r\n      <g>\r\n       <use style=\"stroke:#000000;stroke-width:0.8;\" x=\"295.662674\" xlink:href=\"#m6e961ee26f\" y=\"224.64\"/>\r\n      </g>\r\n     </g>\r\n     <g id=\"text_5\">\r\n      <!-- 400 -->\r\n      <g transform=\"translate(286.118924 239.238437)scale(0.1 -0.1)\">\r\n       <defs>\r\n        <path d=\"M 37.796875 64.3125 \r\nL 12.890625 25.390625 \r\nL 37.796875 25.390625 \r\nz\r\nM 35.203125 72.90625 \r\nL 47.609375 72.90625 \r\nL 47.609375 25.390625 \r\nL 58.015625 25.390625 \r\nL 58.015625 17.1875 \r\nL 47.609375 17.1875 \r\nL 47.609375 0 \r\nL 37.796875 0 \r\nL 37.796875 17.1875 \r\nL 4.890625 17.1875 \r\nL 4.890625 26.703125 \r\nz\r\n\" id=\"DejaVuSans-52\"/>\r\n       </defs>\r\n       <use xlink:href=\"#DejaVuSans-52\"/>\r\n       <use x=\"63.623047\" xlink:href=\"#DejaVuSans-48\"/>\r\n       <use x=\"127.246094\" xlink:href=\"#DejaVuSans-48\"/>\r\n      </g>\r\n     </g>\r\n    </g>\r\n    <g id=\"xtick_6\">\r\n     <g id=\"line2d_6\">\r\n      <g>\r\n       <use style=\"stroke:#000000;stroke-width:0.8;\" x=\"356.65739\" xlink:href=\"#m6e961ee26f\" y=\"224.64\"/>\r\n      </g>\r\n     </g>\r\n     <g id=\"text_6\">\r\n      <!-- 500 -->\r\n      <g transform=\"translate(347.11364 239.238437)scale(0.1 -0.1)\">\r\n       <defs>\r\n        <path d=\"M 10.796875 72.90625 \r\nL 49.515625 72.90625 \r\nL 49.515625 64.59375 \r\nL 19.828125 64.59375 \r\nL 19.828125 46.734375 \r\nQ 21.96875 47.46875 24.109375 47.828125 \r\nQ 26.265625 48.1875 28.421875 48.1875 \r\nQ 40.625 48.1875 47.75 41.5 \r\nQ 54.890625 34.8125 54.890625 23.390625 \r\nQ 54.890625 11.625 47.5625 5.09375 \r\nQ 40.234375 -1.421875 26.90625 -1.421875 \r\nQ 22.3125 -1.421875 17.546875 -0.640625 \r\nQ 12.796875 0.140625 7.71875 1.703125 \r\nL 7.71875 11.625 \r\nQ 12.109375 9.234375 16.796875 8.0625 \r\nQ 21.484375 6.890625 26.703125 6.890625 \r\nQ 35.15625 6.890625 40.078125 11.328125 \r\nQ 45.015625 15.765625 45.015625 23.390625 \r\nQ 45.015625 31 40.078125 35.4375 \r\nQ 35.15625 39.890625 26.703125 39.890625 \r\nQ 22.75 39.890625 18.8125 39.015625 \r\nQ 14.890625 38.140625 10.796875 36.28125 \r\nz\r\n\" id=\"DejaVuSans-53\"/>\r\n       </defs>\r\n       <use xlink:href=\"#DejaVuSans-53\"/>\r\n       <use x=\"63.623047\" xlink:href=\"#DejaVuSans-48\"/>\r\n       <use x=\"127.246094\" xlink:href=\"#DejaVuSans-48\"/>\r\n      </g>\r\n     </g>\r\n    </g>\r\n   </g>\r\n   <g id=\"matplotlib.axis_2\">\r\n    <g id=\"ytick_1\">\r\n     <g id=\"line2d_7\">\r\n      <defs>\r\n       <path d=\"M 0 0 \r\nL -3.5 0 \r\n\" id=\"m59fa586c28\" style=\"stroke:#000000;stroke-width:0.8;\"/>\r\n      </defs>\r\n      <g>\r\n       <use style=\"stroke:#000000;stroke-width:0.8;\" x=\"36.465625\" xlink:href=\"#m59fa586c28\" y=\"197.323669\"/>\r\n      </g>\r\n     </g>\r\n     <g id=\"text_7\">\r\n      <!-- 0.25 -->\r\n      <g transform=\"translate(7.2 201.122887)scale(0.1 -0.1)\">\r\n       <defs>\r\n        <path d=\"M 10.6875 12.40625 \r\nL 21 12.40625 \r\nL 21 0 \r\nL 10.6875 0 \r\nz\r\n\" id=\"DejaVuSans-46\"/>\r\n       </defs>\r\n       <use xlink:href=\"#DejaVuSans-48\"/>\r\n       <use x=\"63.623047\" xlink:href=\"#DejaVuSans-46\"/>\r\n       <use x=\"95.410156\" xlink:href=\"#DejaVuSans-50\"/>\r\n       <use x=\"159.033203\" xlink:href=\"#DejaVuSans-53\"/>\r\n      </g>\r\n     </g>\r\n    </g>\r\n    <g id=\"ytick_2\">\r\n     <g id=\"line2d_8\">\r\n      <g>\r\n       <use style=\"stroke:#000000;stroke-width:0.8;\" x=\"36.465625\" xlink:href=\"#m59fa586c28\" y=\"167.890366\"/>\r\n      </g>\r\n     </g>\r\n     <g id=\"text_8\">\r\n      <!-- 0.50 -->\r\n      <g transform=\"translate(7.2 171.689585)scale(0.1 -0.1)\">\r\n       <use xlink:href=\"#DejaVuSans-48\"/>\r\n       <use x=\"63.623047\" xlink:href=\"#DejaVuSans-46\"/>\r\n       <use x=\"95.410156\" xlink:href=\"#DejaVuSans-53\"/>\r\n       <use x=\"159.033203\" xlink:href=\"#DejaVuSans-48\"/>\r\n      </g>\r\n     </g>\r\n    </g>\r\n    <g id=\"ytick_3\">\r\n     <g id=\"line2d_9\">\r\n      <g>\r\n       <use style=\"stroke:#000000;stroke-width:0.8;\" x=\"36.465625\" xlink:href=\"#m59fa586c28\" y=\"138.457063\"/>\r\n      </g>\r\n     </g>\r\n     <g id=\"text_9\">\r\n      <!-- 0.75 -->\r\n      <g transform=\"translate(7.2 142.256282)scale(0.1 -0.1)\">\r\n       <defs>\r\n        <path d=\"M 8.203125 72.90625 \r\nL 55.078125 72.90625 \r\nL 55.078125 68.703125 \r\nL 28.609375 0 \r\nL 18.3125 0 \r\nL 43.21875 64.59375 \r\nL 8.203125 64.59375 \r\nz\r\n\" id=\"DejaVuSans-55\"/>\r\n       </defs>\r\n       <use xlink:href=\"#DejaVuSans-48\"/>\r\n       <use x=\"63.623047\" xlink:href=\"#DejaVuSans-46\"/>\r\n       <use x=\"95.410156\" xlink:href=\"#DejaVuSans-55\"/>\r\n       <use x=\"159.033203\" xlink:href=\"#DejaVuSans-53\"/>\r\n      </g>\r\n     </g>\r\n    </g>\r\n    <g id=\"ytick_4\">\r\n     <g id=\"line2d_10\">\r\n      <g>\r\n       <use style=\"stroke:#000000;stroke-width:0.8;\" x=\"36.465625\" xlink:href=\"#m59fa586c28\" y=\"109.02376\"/>\r\n      </g>\r\n     </g>\r\n     <g id=\"text_10\">\r\n      <!-- 1.00 -->\r\n      <g transform=\"translate(7.2 112.822979)scale(0.1 -0.1)\">\r\n       <use xlink:href=\"#DejaVuSans-49\"/>\r\n       <use x=\"63.623047\" xlink:href=\"#DejaVuSans-46\"/>\r\n       <use x=\"95.410156\" xlink:href=\"#DejaVuSans-48\"/>\r\n       <use x=\"159.033203\" xlink:href=\"#DejaVuSans-48\"/>\r\n      </g>\r\n     </g>\r\n    </g>\r\n    <g id=\"ytick_5\">\r\n     <g id=\"line2d_11\">\r\n      <g>\r\n       <use style=\"stroke:#000000;stroke-width:0.8;\" x=\"36.465625\" xlink:href=\"#m59fa586c28\" y=\"79.590458\"/>\r\n      </g>\r\n     </g>\r\n     <g id=\"text_11\">\r\n      <!-- 1.25 -->\r\n      <g transform=\"translate(7.2 83.389677)scale(0.1 -0.1)\">\r\n       <use xlink:href=\"#DejaVuSans-49\"/>\r\n       <use x=\"63.623047\" xlink:href=\"#DejaVuSans-46\"/>\r\n       <use x=\"95.410156\" xlink:href=\"#DejaVuSans-50\"/>\r\n       <use x=\"159.033203\" xlink:href=\"#DejaVuSans-53\"/>\r\n      </g>\r\n     </g>\r\n    </g>\r\n    <g id=\"ytick_6\">\r\n     <g id=\"line2d_12\">\r\n      <g>\r\n       <use style=\"stroke:#000000;stroke-width:0.8;\" x=\"36.465625\" xlink:href=\"#m59fa586c28\" y=\"50.157155\"/>\r\n      </g>\r\n     </g>\r\n     <g id=\"text_12\">\r\n      <!-- 1.50 -->\r\n      <g transform=\"translate(7.2 53.956374)scale(0.1 -0.1)\">\r\n       <use xlink:href=\"#DejaVuSans-49\"/>\r\n       <use x=\"63.623047\" xlink:href=\"#DejaVuSans-46\"/>\r\n       <use x=\"95.410156\" xlink:href=\"#DejaVuSans-53\"/>\r\n       <use x=\"159.033203\" xlink:href=\"#DejaVuSans-48\"/>\r\n      </g>\r\n     </g>\r\n    </g>\r\n    <g id=\"ytick_7\">\r\n     <g id=\"line2d_13\">\r\n      <g>\r\n       <use style=\"stroke:#000000;stroke-width:0.8;\" x=\"36.465625\" xlink:href=\"#m59fa586c28\" y=\"20.723852\"/>\r\n      </g>\r\n     </g>\r\n     <g id=\"text_13\">\r\n      <!-- 1.75 -->\r\n      <g transform=\"translate(7.2 24.523071)scale(0.1 -0.1)\">\r\n       <use xlink:href=\"#DejaVuSans-49\"/>\r\n       <use x=\"63.623047\" xlink:href=\"#DejaVuSans-46\"/>\r\n       <use x=\"95.410156\" xlink:href=\"#DejaVuSans-55\"/>\r\n       <use x=\"159.033203\" xlink:href=\"#DejaVuSans-53\"/>\r\n      </g>\r\n     </g>\r\n    </g>\r\n   </g>\r\n   <g id=\"line2d_14\">\r\n    <path clip-path=\"url(#pa61bd74969)\" d=\"M 51.683807 17.083636 \r\nL 52.293754 123.487847 \r\nL 52.903701 170.604865 \r\nL 53.513648 193.380983 \r\nL 54.123595 203.705539 \r\nL 54.733543 209.01726 \r\nL 55.34349 211.398852 \r\nL 55.953437 212.366935 \r\nL 57.173331 213.283521 \r\nL 59.003173 213.130201 \r\nL 59.61312 213.697861 \r\nL 60.223067 213.569329 \r\nL 60.833014 213.578205 \r\nL 61.442961 213.28782 \r\nL 62.662856 213.496511 \r\nL 63.272803 213.156573 \r\nL 65.712592 213.585557 \r\nL 66.322539 213.211595 \r\nL 66.932486 213.515326 \r\nL 67.542433 213.384218 \r\nL 68.15238 213.60146 \r\nL 69.372275 213.410977 \r\nL 70.592169 213.391519 \r\nL 71.202116 213.811997 \r\nL 72.42201 213.66311 \r\nL 73.031958 213.73887 \r\nL 73.641905 213.13745 \r\nL 74.251852 213.423519 \r\nL 75.471746 213.363123 \r\nL 76.081694 213.998979 \r\nL 76.691641 213.445316 \r\nL 77.911535 213.600394 \r\nL 79.131429 213.74547 \r\nL 79.741377 213.434485 \r\nL 80.351324 213.82472 \r\nL 80.961271 213.664401 \r\nL 81.571218 213.263304 \r\nL 82.181165 213.540578 \r\nL 82.791112 213.492999 \r\nL 83.40106 213.62926 \r\nL 84.011007 213.938736 \r\nL 84.620954 213.401643 \r\nL 85.230901 213.971186 \r\nL 86.450795 213.552492 \r\nL 87.060743 213.513029 \r\nL 87.67069 213.657165 \r\nL 88.280637 213.646257 \r\nL 88.890584 213.878614 \r\nL 89.500531 213.739991 \r\nL 90.110478 214.173859 \r\nL 90.720426 213.795822 \r\nL 91.330373 213.714728 \r\nL 91.94032 213.332003 \r\nL 93.160214 213.617521 \r\nL 93.770161 213.857223 \r\nL 94.380109 213.764528 \r\nL 94.990056 214.13052 \r\nL 95.600003 213.695527 \r\nL 96.20995 213.559355 \r\nL 97.429844 213.566176 \r\nL 98.039792 213.868849 \r\nL 99.259686 214.115665 \r\nL 99.869633 213.738776 \r\nL 101.089527 213.924419 \r\nL 102.309422 213.815756 \r\nL 102.919369 213.995029 \r\nL 103.529316 213.67824 \r\nL 104.74921 213.839619 \r\nL 105.359158 213.600799 \r\nL 105.969105 214.158415 \r\nL 106.579052 213.824182 \r\nL 107.798946 214.264656 \r\nL 109.018841 213.204378 \r\nL 109.628788 213.874644 \r\nL 110.238735 213.826056 \r\nL 110.848682 213.550386 \r\nL 111.458629 213.85864 \r\nL 112.678524 213.913733 \r\nL 113.288471 213.834827 \r\nL 113.898418 214.00261 \r\nL 115.118312 214.048223 \r\nL 115.728259 213.795689 \r\nL 116.338207 213.771409 \r\nL 116.948154 213.527973 \r\nL 117.558101 213.818238 \r\nL 118.168048 213.961028 \r\nL 118.777995 213.457872 \r\nL 119.387942 213.533583 \r\nL 119.99789 213.91466 \r\nL 120.607837 213.404321 \r\nL 121.217784 213.89578 \r\nL 121.827731 213.777057 \r\nL 122.437678 213.820212 \r\nL 123.047625 213.54778 \r\nL 123.657573 214.072576 \r\nL 126.097361 214.113787 \r\nL 126.707308 213.760936 \r\nL 127.317256 214.045849 \r\nL 128.53715 213.670527 \r\nL 129.147097 213.976444 \r\nL 129.757044 214.062008 \r\nL 130.366991 214.334688 \r\nL 131.586886 213.66826 \r\nL 132.80678 214.017997 \r\nL 134.026674 213.601676 \r\nL 135.856516 214.07999 \r\nL 137.07641 213.925673 \r\nL 137.686357 213.386319 \r\nL 138.296305 213.439377 \r\nL 139.516199 214.226154 \r\nL 140.126146 214.274373 \r\nL 141.34604 213.545531 \r\nL 141.955988 213.972932 \r\nL 142.565935 213.834841 \r\nL 143.175882 213.853595 \r\nL 143.785829 214.505964 \r\nL 144.395776 213.80657 \r\nL 145.005723 213.911131 \r\nL 145.615671 213.707176 \r\nL 146.225618 214.017103 \r\nL 146.835565 214.028712 \r\nL 147.445512 213.820894 \r\nL 148.665406 214.060278 \r\nL 149.275354 214.004915 \r\nL 149.885301 213.687781 \r\nL 150.495248 213.721232 \r\nL 151.105195 213.992719 \r\nL 151.715142 213.815583 \r\nL 152.325089 214.154085 \r\nL 152.935037 213.930606 \r\nL 153.544984 214.086803 \r\nL 154.154931 213.704018 \r\nL 155.984772 213.970711 \r\nL 156.59472 213.203694 \r\nL 157.204667 214.028186 \r\nL 158.424561 213.122944 \r\nL 159.034508 213.971372 \r\nL 159.644455 213.539955 \r\nL 160.86435 213.685933 \r\nL 161.474297 213.574371 \r\nL 162.084244 213.895791 \r\nL 162.694191 213.773395 \r\nL 163.914086 214.058513 \r\nL 164.524033 213.894007 \r\nL 165.13398 214.20885 \r\nL 165.743927 213.820831 \r\nL 166.353874 213.959881 \r\nL 166.963821 213.911559 \r\nL 168.183716 214.016785 \r\nL 168.793663 213.873122 \r\nL 169.40361 213.846267 \r\nL 170.623504 213.98117 \r\nL 172.453346 214.081113 \r\nL 173.063293 213.579257 \r\nL 173.67324 213.794232 \r\nL 174.283187 213.633385 \r\nL 174.893135 213.752653 \r\nL 175.503082 213.48601 \r\nL 176.113029 213.34067 \r\nL 176.722976 214.035003 \r\nL 177.332923 213.832468 \r\nL 177.94287 214.029424 \r\nL 179.162765 213.624892 \r\nL 179.772712 213.982225 \r\nL 180.382659 213.790005 \r\nL 180.992606 213.752347 \r\nL 181.602553 214.187655 \r\nL 182.822448 213.771398 \r\nL 183.432395 213.971125 \r\nL 184.042342 214.329859 \r\nL 184.652289 213.598332 \r\nL 185.262236 213.460493 \r\nL 185.872184 214.133086 \r\nL 186.482131 213.790317 \r\nL 187.092078 213.575164 \r\nL 187.702025 214.074644 \r\nL 188.311972 213.744255 \r\nL 188.921919 213.978863 \r\nL 189.531867 214.058343 \r\nL 190.751761 213.683313 \r\nL 193.19155 214.37565 \r\nL 193.801497 213.894514 \r\nL 194.411444 213.820469 \r\nL 196.241285 213.911003 \r\nL 196.851233 213.685313 \r\nL 197.46118 214.04733 \r\nL 198.071127 214.074978 \r\nL 198.681074 213.564934 \r\nL 199.291021 213.698842 \r\nL 199.900968 214.233773 \r\nL 200.510916 213.860612 \r\nL 201.120863 214.179953 \r\nL 201.73081 214.31626 \r\nL 202.340757 214.120645 \r\nL 202.950704 213.210532 \r\nL 203.560651 213.299372 \r\nL 204.170599 213.625343 \r\nL 204.780546 213.64705 \r\nL 205.390493 213.989128 \r\nL 206.00044 214.00308 \r\nL 206.610387 214.14492 \r\nL 207.220334 213.877476 \r\nL 207.830282 214.14272 \r\nL 208.440229 213.881128 \r\nL 210.27007 213.801941 \r\nL 211.489965 214.177074 \r\nL 212.099912 213.769389 \r\nL 212.709859 213.73201 \r\nL 213.319806 213.537555 \r\nL 215.149648 214.191117 \r\nL 215.759595 213.295927 \r\nL 216.369542 213.927926 \r\nL 216.979489 213.824049 \r\nL 218.199383 214.082399 \r\nL 218.809331 214.231751 \r\nL 220.029225 213.781486 \r\nL 221.249119 213.506538 \r\nL 221.859066 214.213875 \r\nL 222.469014 214.348844 \r\nL 223.078961 213.865332 \r\nL 223.688908 213.583328 \r\nL 224.298855 213.970646 \r\nL 224.908802 213.961157 \r\nL 225.518749 214.168163 \r\nL 226.128697 214.005592 \r\nL 226.738644 213.589067 \r\nL 227.348591 214.164035 \r\nL 227.958538 214.036268 \r\nL 228.568485 213.465697 \r\nL 229.178432 213.696602 \r\nL 229.78838 214.074884 \r\nL 230.398327 213.855397 \r\nL 231.008274 213.832762 \r\nL 232.228168 213.917892 \r\nL 234.05801 214.058005 \r\nL 234.667957 213.986057 \r\nL 235.277904 214.090899 \r\nL 235.887851 214.37488 \r\nL 236.497798 214.0419 \r\nL 237.107746 214.067159 \r\nL 237.717693 214.291355 \r\nL 238.32764 214.161511 \r\nL 238.937587 214.147194 \r\nL 239.547534 214.002956 \r\nL 240.157481 214.042353 \r\nL 240.767429 213.725829 \r\nL 241.987323 213.754079 \r\nL 242.59727 213.492408 \r\nL 243.207217 214.098817 \r\nL 244.427112 213.964273 \r\nL 245.037059 214.168794 \r\nL 245.647006 214.202945 \r\nL 246.256953 213.999889 \r\nL 246.8669 213.935104 \r\nL 247.476847 214.32408 \r\nL 248.086795 213.791229 \r\nL 248.696742 214.023215 \r\nL 249.306689 214.030284 \r\nL 249.916636 214.184271 \r\nL 250.526583 213.615256 \r\nL 251.13653 213.66701 \r\nL 251.746478 213.993576 \r\nL 252.966372 213.694093 \r\nL 253.576319 213.769508 \r\nL 254.186266 214.070947 \r\nL 254.796213 213.726657 \r\nL 255.406161 213.6356 \r\nL 256.016108 213.952484 \r\nL 256.626055 213.863522 \r\nL 257.236002 214.131803 \r\nL 257.845949 213.583997 \r\nL 258.455896 214.003371 \r\nL 259.675791 214.472779 \r\nL 260.285738 213.828989 \r\nL 260.895685 214.358627 \r\nL 261.505632 214.242482 \r\nL 262.115579 214.31345 \r\nL 263.945421 213.851085 \r\nL 264.555368 213.484109 \r\nL 265.775262 213.563723 \r\nL 266.38521 213.953234 \r\nL 266.995157 214.004954 \r\nL 267.605104 214.274377 \r\nL 268.215051 214.271624 \r\nL 269.434945 213.483043 \r\nL 270.044893 214.034016 \r\nL 271.264787 214.376511 \r\nL 271.874734 213.809778 \r\nL 273.094628 214.456374 \r\nL 273.704576 213.903667 \r\nL 274.314523 213.588775 \r\nL 274.92447 213.585452 \r\nL 275.534417 213.720875 \r\nL 276.144364 213.625971 \r\nL 276.754311 213.69921 \r\nL 277.364259 214.116715 \r\nL 277.974206 213.915898 \r\nL 278.584153 213.574451 \r\nL 279.1941 214.136828 \r\nL 279.804047 214.221725 \r\nL 280.413994 214.149563 \r\nL 281.023942 213.644101 \r\nL 281.633889 213.726402 \r\nL 282.243836 214.106329 \r\nL 283.46373 214.275572 \r\nL 284.073677 213.892469 \r\nL 284.683625 214.225969 \r\nL 285.293572 213.730117 \r\nL 285.903519 213.958807 \r\nL 286.513466 213.684368 \r\nL 287.123413 213.767739 \r\nL 287.73336 213.553284 \r\nL 288.343308 213.975521 \r\nL 288.953255 213.537547 \r\nL 289.563202 214.138734 \r\nL 290.173149 214.037882 \r\nL 290.783096 214.161939 \r\nL 292.612938 214.046497 \r\nL 293.222885 213.86397 \r\nL 293.832832 213.941971 \r\nL 294.442779 213.831439 \r\nL 295.052726 214.057749 \r\nL 295.662674 213.62849 \r\nL 296.882568 213.649677 \r\nL 297.492515 214.111664 \r\nL 298.102462 213.951311 \r\nL 298.712409 214.20238 \r\nL 299.932304 213.956436 \r\nL 300.542251 214.164823 \r\nL 301.152198 213.895191 \r\nL 301.762145 214.33818 \r\nL 302.372092 214.022728 \r\nL 302.98204 213.48394 \r\nL 304.201934 213.498761 \r\nL 305.421828 214.281661 \r\nL 306.641723 213.582072 \r\nL 307.25167 213.85811 \r\nL 307.861617 214.346125 \r\nL 308.471564 214.458932 \r\nL 309.691458 213.616918 \r\nL 310.301406 213.788465 \r\nL 310.911353 213.798677 \r\nL 311.5213 214.214079 \r\nL 312.131247 213.767691 \r\nL 312.741194 213.745005 \r\nL 313.351141 213.434816 \r\nL 313.961089 214.195131 \r\nL 314.571036 213.871248 \r\nL 315.180983 213.861809 \r\nL 315.79093 214.25353 \r\nL 316.400877 213.578067 \r\nL 317.010824 214.382597 \r\nL 317.620772 214.053307 \r\nL 318.840666 213.967847 \r\nL 319.450613 214.212265 \r\nL 320.06056 213.970673 \r\nL 320.670507 214.2659 \r\nL 321.280455 213.753882 \r\nL 321.890402 213.699886 \r\nL 323.110296 214.122312 \r\nL 323.720243 213.843224 \r\nL 324.940138 213.83032 \r\nL 325.550085 214.187811 \r\nL 326.160032 213.854849 \r\nL 326.769979 213.958255 \r\nL 327.379926 214.756364 \r\nL 327.989873 213.86673 \r\nL 328.599821 214.106888 \r\nL 329.209768 213.27161 \r\nL 331.039609 213.930226 \r\nL 331.649556 213.832879 \r\nL 332.259504 214.160148 \r\nL 332.869451 213.600535 \r\nL 333.479398 213.677408 \r\nL 334.089345 213.982892 \r\nL 335.30924 214.26374 \r\nL 335.919187 213.849837 \r\nL 336.529134 214.061313 \r\nL 337.139081 213.705359 \r\nL 337.749028 214.149842 \r\nL 338.358975 213.727506 \r\nL 338.968923 213.720516 \r\nL 339.57887 213.951384 \r\nL 340.188817 213.979842 \r\nL 340.798764 213.759105 \r\nL 341.408711 214.174504 \r\nL 342.018658 214.260552 \r\nL 343.238553 213.894914 \r\nL 343.8485 214.210556 \r\nL 344.458447 213.755972 \r\nL 345.068394 214.144547 \r\nL 345.678341 214.208175 \r\nL 346.288289 213.953958 \r\nL 346.898236 213.82415 \r\nL 347.508183 214.120293 \r\nL 348.11813 214.016855 \r\nL 348.728077 214.286975 \r\nL 349.338024 214.170749 \r\nL 349.947972 213.811781 \r\nL 351.167866 214.156125 \r\nL 351.777813 213.869961 \r\nL 352.38776 213.75793 \r\nL 352.997707 214.265592 \r\nL 354.217602 214.30109 \r\nL 354.827549 213.843353 \r\nL 356.047443 213.622953 \r\nL 356.047443 213.622953 \r\n\" style=\"fill:none;stroke:#ff0000;stroke-linecap:square;stroke-width:1.5;\"/>\r\n   </g>\r\n   <g id=\"line2d_15\">\r\n    <path clip-path=\"url(#pa61bd74969)\" d=\"M 51.683807 88.302112 \r\nL 52.293754 151.639995 \r\nL 52.903701 183.245756 \r\nL 53.513648 198.225782 \r\nL 54.123595 205.870169 \r\nL 54.733543 209.094185 \r\nL 55.34349 211.183012 \r\nL 55.953437 211.831451 \r\nL 56.563384 211.541629 \r\nL 57.173331 212.300241 \r\nL 57.783278 212.112846 \r\nL 58.393226 212.10745 \r\nL 59.003173 211.906688 \r\nL 59.61312 212.307763 \r\nL 60.223067 212.324713 \r\nL 60.833014 212.873318 \r\nL 61.442961 212.688366 \r\nL 62.052909 211.802285 \r\nL 63.272803 212.888646 \r\nL 63.88275 212.569802 \r\nL 64.492697 211.247069 \r\nL 65.102644 212.819902 \r\nL 65.712592 212.858937 \r\nL 66.322539 212.662136 \r\nL 66.932486 212.342487 \r\nL 67.542433 212.567729 \r\nL 68.15238 211.719379 \r\nL 68.762327 212.058946 \r\nL 69.372275 211.210165 \r\nL 69.982222 211.928611 \r\nL 70.592169 212.367734 \r\nL 71.202116 211.812516 \r\nL 71.812063 212.650325 \r\nL 72.42201 211.854375 \r\nL 73.641905 213.121331 \r\nL 74.251852 212.912079 \r\nL 74.861799 212.577413 \r\nL 75.471746 212.509159 \r\nL 76.081694 212.869258 \r\nL 76.691641 212.449086 \r\nL 77.301588 212.198435 \r\nL 77.911535 209.872215 \r\nL 78.521482 212.658871 \r\nL 79.131429 212.449844 \r\nL 79.741377 212.436599 \r\nL 80.961271 212.95926 \r\nL 81.571218 212.48506 \r\nL 82.181165 212.37021 \r\nL 82.791112 213.165278 \r\nL 83.40106 212.98685 \r\nL 84.011007 211.840756 \r\nL 85.230901 212.889804 \r\nL 85.840848 212.999156 \r\nL 86.450795 212.707812 \r\nL 87.060743 213.138541 \r\nL 87.67069 212.883892 \r\nL 88.890584 212.790148 \r\nL 89.500531 212.474193 \r\nL 90.110478 212.930087 \r\nL 90.720426 213.061479 \r\nL 91.330373 212.645913 \r\nL 91.94032 212.917066 \r\nL 92.550267 213.563075 \r\nL 93.160214 212.298436 \r\nL 93.770161 213.397849 \r\nL 94.380109 213.668704 \r\nL 94.990056 212.53916 \r\nL 95.600003 212.557038 \r\nL 96.20995 213.317368 \r\nL 96.819897 212.312511 \r\nL 97.429844 212.109883 \r\nL 98.649739 213.629013 \r\nL 99.259686 212.952609 \r\nL 100.47958 213.008027 \r\nL 101.699475 213.163474 \r\nL 102.309422 213.447639 \r\nL 102.919369 212.519674 \r\nL 103.529316 212.648217 \r\nL 104.139263 211.895674 \r\nL 104.74921 212.301057 \r\nL 105.359158 213.542743 \r\nL 105.969105 212.215577 \r\nL 106.579052 212.514447 \r\nL 107.188999 212.58701 \r\nL 107.798946 213.680698 \r\nL 108.408893 213.072058 \r\nL 109.018841 212.685716 \r\nL 109.628788 211.978873 \r\nL 110.238735 212.714775 \r\nL 110.848682 212.821426 \r\nL 111.458629 213.492884 \r\nL 112.068576 212.938203 \r\nL 112.678524 213.31646 \r\nL 113.288471 213.101207 \r\nL 113.898418 213.1363 \r\nL 114.508365 212.952979 \r\nL 115.118312 213.835358 \r\nL 115.728259 212.928536 \r\nL 116.338207 213.083203 \r\nL 116.948154 211.577895 \r\nL 117.558101 212.841107 \r\nL 118.168048 212.179115 \r\nL 118.777995 212.770096 \r\nL 119.387942 212.589812 \r\nL 119.99789 213.145497 \r\nL 120.607837 213.295357 \r\nL 121.217784 212.315762 \r\nL 121.827731 212.734415 \r\nL 122.437678 212.097365 \r\nL 123.047625 212.211807 \r\nL 123.657573 213.397516 \r\nL 124.26752 212.100023 \r\nL 124.877467 213.701294 \r\nL 125.487414 213.143948 \r\nL 126.097361 213.450162 \r\nL 126.707308 213.25221 \r\nL 127.317256 213.50648 \r\nL 128.53715 213.168007 \r\nL 129.147097 212.964341 \r\nL 130.366991 213.108959 \r\nL 130.976939 212.7541 \r\nL 132.80678 213.579587 \r\nL 133.416727 213.538653 \r\nL 134.026674 212.358484 \r\nL 134.636622 212.340413 \r\nL 135.246569 212.581873 \r\nL 135.856516 213.332913 \r\nL 136.466463 212.836167 \r\nL 137.07641 211.65658 \r\nL 137.686357 212.677138 \r\nL 138.296305 213.281121 \r\nL 139.516199 213.173574 \r\nL 140.126146 213.292158 \r\nL 141.34604 213.195591 \r\nL 141.955988 212.886306 \r\nL 142.565935 213.39979 \r\nL 143.175882 213.520059 \r\nL 143.785829 213.261339 \r\nL 144.395776 213.432119 \r\nL 145.005723 212.737945 \r\nL 145.615671 212.704348 \r\nL 146.225618 213.085834 \r\nL 146.835565 212.254742 \r\nL 147.445512 213.395396 \r\nL 148.055459 213.432043 \r\nL 148.665406 212.418293 \r\nL 149.275354 212.78027 \r\nL 149.885301 212.644911 \r\nL 151.105195 213.100258 \r\nL 151.715142 213.070491 \r\nL 152.325089 213.438504 \r\nL 152.935037 212.881623 \r\nL 153.544984 213.266819 \r\nL 154.154931 212.426797 \r\nL 154.764878 213.195392 \r\nL 155.374825 212.887625 \r\nL 155.984772 213.663422 \r\nL 156.59472 212.593209 \r\nL 157.204667 213.185521 \r\nL 157.814614 213.136692 \r\nL 158.424561 212.974551 \r\nL 159.034508 213.021887 \r\nL 159.644455 213.598466 \r\nL 160.254403 212.506544 \r\nL 160.86435 213.316066 \r\nL 161.474297 213.056263 \r\nL 162.694191 213.217976 \r\nL 163.304138 213.570416 \r\nL 163.914086 213.163712 \r\nL 164.524033 213.676811 \r\nL 166.353874 213.207419 \r\nL 166.963821 213.209427 \r\nL 167.573769 213.352265 \r\nL 168.183716 212.172867 \r\nL 168.793663 213.575986 \r\nL 169.40361 212.820643 \r\nL 170.013557 213.591051 \r\nL 170.623504 213.739465 \r\nL 171.843399 213.448106 \r\nL 172.453346 212.948501 \r\nL 173.063293 213.004269 \r\nL 173.67324 212.81016 \r\nL 174.283187 212.24337 \r\nL 174.893135 212.997523 \r\nL 175.503082 213.524404 \r\nL 176.113029 212.583822 \r\nL 176.722976 213.131678 \r\nL 177.332923 212.54383 \r\nL 177.94287 213.108182 \r\nL 178.552818 213.434199 \r\nL 179.162765 213.327277 \r\nL 179.772712 213.563854 \r\nL 180.382659 213.354335 \r\nL 180.992606 212.725729 \r\nL 181.602553 212.84098 \r\nL 182.212501 213.627967 \r\nL 182.822448 212.947884 \r\nL 183.432395 213.176541 \r\nL 184.042342 213.100398 \r\nL 184.652289 212.838639 \r\nL 185.872184 213.768155 \r\nL 186.482131 213.206981 \r\nL 187.092078 212.491687 \r\nL 187.702025 213.453184 \r\nL 188.311972 212.638929 \r\nL 188.921919 213.005577 \r\nL 191.361708 213.85116 \r\nL 191.971655 212.997468 \r\nL 193.19155 212.774728 \r\nL 193.801497 212.70674 \r\nL 194.411444 212.30133 \r\nL 195.021391 212.951953 \r\nL 195.631338 213.213047 \r\nL 196.241285 212.786838 \r\nL 196.851233 213.66653 \r\nL 197.46118 213.365949 \r\nL 198.071127 212.303321 \r\nL 198.681074 213.598255 \r\nL 199.291021 212.736623 \r\nL 199.900968 213.229101 \r\nL 200.510916 213.183493 \r\nL 201.120863 213.862953 \r\nL 201.73081 212.535281 \r\nL 202.340757 211.937783 \r\nL 202.950704 211.642117 \r\nL 203.560651 213.121364 \r\nL 204.170599 212.351752 \r\nL 204.780546 212.863108 \r\nL 205.390493 212.434849 \r\nL 206.00044 213.275814 \r\nL 206.610387 213.421016 \r\nL 207.220334 212.34585 \r\nL 208.440229 213.241508 \r\nL 209.050176 213.179801 \r\nL 209.660123 213.577945 \r\nL 210.27007 213.304565 \r\nL 210.880017 213.27843 \r\nL 211.489965 213.084597 \r\nL 212.099912 213.158379 \r\nL 212.709859 213.372121 \r\nL 213.929753 212.96892 \r\nL 214.5397 213.602576 \r\nL 215.149648 212.625277 \r\nL 216.369542 213.489174 \r\nL 216.979489 213.56624 \r\nL 217.589436 213.853668 \r\nL 218.199383 213.583573 \r\nL 218.809331 212.863272 \r\nL 219.419278 213.83608 \r\nL 220.029225 212.666873 \r\nL 220.639172 212.180797 \r\nL 221.249119 213.271517 \r\nL 221.859066 213.434078 \r\nL 222.469014 213.888393 \r\nL 223.078961 213.163981 \r\nL 223.688908 213.401318 \r\nL 224.298855 213.191292 \r\nL 224.908802 213.834762 \r\nL 225.518749 213.372919 \r\nL 226.128697 212.574559 \r\nL 226.738644 212.734273 \r\nL 227.348591 213.261286 \r\nL 228.568485 210.873834 \r\nL 229.178432 213.392489 \r\nL 229.78838 213.380435 \r\nL 230.398327 212.930629 \r\nL 231.008274 213.403005 \r\nL 231.618221 213.452337 \r\nL 232.228168 213.235151 \r\nL 232.838115 213.599538 \r\nL 233.448063 212.616847 \r\nL 234.05801 213.620541 \r\nL 235.277904 213.321844 \r\nL 235.887851 213.470779 \r\nL 236.497798 211.667836 \r\nL 237.107746 213.256537 \r\nL 237.717693 212.953655 \r\nL 238.32764 213.682536 \r\nL 238.937587 213.248389 \r\nL 239.547534 213.369749 \r\nL 240.767429 213.127279 \r\nL 241.377376 212.735592 \r\nL 241.987323 213.01969 \r\nL 242.59727 212.682122 \r\nL 243.207217 213.203863 \r\nL 243.817164 212.737509 \r\nL 244.427112 213.102102 \r\nL 245.037059 213.64874 \r\nL 246.256953 213.67019 \r\nL 246.8669 213.222568 \r\nL 247.476847 213.619225 \r\nL 248.086795 213.331625 \r\nL 248.696742 213.370233 \r\nL 249.306689 212.545006 \r\nL 249.916636 213.703537 \r\nL 250.526583 212.781853 \r\nL 251.13653 213.589396 \r\nL 251.746478 213.272797 \r\nL 252.966372 213.051288 \r\nL 253.576319 213.235521 \r\nL 254.186266 212.691051 \r\nL 254.796213 213.01301 \r\nL 256.016108 213.268142 \r\nL 256.626055 212.605127 \r\nL 257.236002 213.367208 \r\nL 257.845949 212.596187 \r\nL 258.455896 213.645195 \r\nL 259.065844 212.894702 \r\nL 259.675791 213.068484 \r\nL 260.285738 212.834088 \r\nL 260.895685 213.164639 \r\nL 261.505632 213.179594 \r\nL 262.115579 213.600634 \r\nL 262.725527 213.24156 \r\nL 263.335474 213.637399 \r\nL 263.945421 212.190751 \r\nL 265.165315 213.088146 \r\nL 265.775262 213.231017 \r\nL 266.38521 213.732467 \r\nL 266.995157 213.053008 \r\nL 267.605104 213.263622 \r\nL 268.215051 212.900711 \r\nL 268.824998 213.491749 \r\nL 269.434945 213.52526 \r\nL 270.044893 212.80998 \r\nL 270.65484 213.649657 \r\nL 271.264787 214.005121 \r\nL 271.874734 213.112497 \r\nL 272.484681 213.350895 \r\nL 273.704576 212.926053 \r\nL 274.314523 212.166021 \r\nL 276.144364 213.244898 \r\nL 276.754311 213.548411 \r\nL 277.364259 213.319963 \r\nL 277.974206 213.681216 \r\nL 278.584153 213.052781 \r\nL 279.1941 213.740865 \r\nL 279.804047 213.476268 \r\nL 281.633889 213.396005 \r\nL 282.243836 212.67672 \r\nL 282.853783 213.432158 \r\nL 283.46373 213.019205 \r\nL 284.073677 213.418593 \r\nL 284.683625 212.847611 \r\nL 285.293572 212.9951 \r\nL 285.903519 213.670318 \r\nL 286.513466 212.698754 \r\nL 287.123413 211.213019 \r\nL 287.73336 212.826938 \r\nL 288.343308 213.447635 \r\nL 288.953255 212.724616 \r\nL 290.173149 213.851867 \r\nL 290.783096 213.251546 \r\nL 291.393043 213.515582 \r\nL 292.002991 212.977111 \r\nL 292.612938 213.988068 \r\nL 293.222885 213.039507 \r\nL 293.832832 213.276234 \r\nL 294.442779 212.925527 \r\nL 295.052726 213.186303 \r\nL 295.662674 212.977248 \r\nL 296.272621 213.215928 \r\nL 296.882568 213.146839 \r\nL 297.492515 213.246148 \r\nL 298.102462 213.043954 \r\nL 298.712409 213.40711 \r\nL 299.322357 213.148961 \r\nL 301.152198 213.220655 \r\nL 301.762145 213.854661 \r\nL 302.98204 211.518038 \r\nL 303.591987 212.848117 \r\nL 304.201934 213.368298 \r\nL 304.811881 213.522641 \r\nL 305.421828 213.504162 \r\nL 306.031775 213.31857 \r\nL 306.641723 212.766815 \r\nL 307.25167 213.76761 \r\nL 307.861617 213.782606 \r\nL 308.471564 212.986329 \r\nL 309.081511 213.554415 \r\nL 309.691458 213.885091 \r\nL 310.301406 213.44476 \r\nL 310.911353 213.344141 \r\nL 311.5213 212.59428 \r\nL 312.131247 212.195993 \r\nL 312.741194 212.91849 \r\nL 313.961089 212.902779 \r\nL 314.571036 213.645071 \r\nL 315.180983 212.710444 \r\nL 315.79093 213.412969 \r\nL 316.400877 213.406763 \r\nL 317.010824 212.431061 \r\nL 317.620772 213.177972 \r\nL 318.230719 212.94941 \r\nL 319.450613 212.977679 \r\nL 320.06056 213.685157 \r\nL 320.670507 212.585605 \r\nL 321.280455 212.071745 \r\nL 321.890402 212.578968 \r\nL 322.500349 212.673739 \r\nL 323.110296 213.109319 \r\nL 323.720243 213.389256 \r\nL 324.33019 212.582072 \r\nL 324.940138 213.436943 \r\nL 325.550085 212.858951 \r\nL 326.160032 213.615272 \r\nL 327.989873 213.298556 \r\nL 328.599821 212.605851 \r\nL 329.209768 212.099422 \r\nL 329.819715 212.290073 \r\nL 330.429662 213.325029 \r\nL 331.039609 213.130037 \r\nL 331.649556 213.761336 \r\nL 332.259504 213.757363 \r\nL 332.869451 212.747387 \r\nL 334.089345 213.667452 \r\nL 334.699292 213.218357 \r\nL 335.30924 212.966343 \r\nL 337.139081 213.711603 \r\nL 337.749028 213.530403 \r\nL 338.358975 212.021397 \r\nL 338.968923 213.14201 \r\nL 339.57887 213.601709 \r\nL 340.188817 213.337536 \r\nL 340.798764 213.403147 \r\nL 341.408711 213.831334 \r\nL 342.018658 213.005848 \r\nL 342.628606 213.441475 \r\nL 343.238553 213.327455 \r\nL 343.8485 213.830148 \r\nL 344.458447 212.519312 \r\nL 345.068394 213.631233 \r\nL 346.288289 213.195275 \r\nL 346.898236 213.532217 \r\nL 347.508183 213.721452 \r\nL 348.11813 213.373723 \r\nL 348.728077 213.273933 \r\nL 349.338024 212.57684 \r\nL 349.947972 213.387627 \r\nL 350.557919 213.102809 \r\nL 351.167866 213.542706 \r\nL 351.777813 213.26904 \r\nL 352.38776 212.528242 \r\nL 352.997707 213.396358 \r\nL 353.607655 213.801007 \r\nL 354.217602 212.860297 \r\nL 354.827549 212.742589 \r\nL 356.047443 213.387016 \r\nL 356.047443 213.387016 \r\n\" style=\"fill:none;stroke:#0000ff;stroke-dasharray:5.55,2.4;stroke-dashoffset:0;stroke-width:1.5;\"/>\r\n   </g>\r\n   <g id=\"patch_3\">\r\n    <path d=\"M 36.465625 224.64 \r\nL 36.465625 7.2 \r\n\" style=\"fill:none;stroke:#000000;stroke-linecap:square;stroke-linejoin:miter;stroke-width:0.8;\"/>\r\n   </g>\r\n   <g id=\"patch_4\">\r\n    <path d=\"M 371.265625 224.64 \r\nL 371.265625 7.2 \r\n\" style=\"fill:none;stroke:#000000;stroke-linecap:square;stroke-linejoin:miter;stroke-width:0.8;\"/>\r\n   </g>\r\n   <g id=\"patch_5\">\r\n    <path d=\"M 36.465625 224.64 \r\nL 371.265625 224.64 \r\n\" style=\"fill:none;stroke:#000000;stroke-linecap:square;stroke-linejoin:miter;stroke-width:0.8;\"/>\r\n   </g>\r\n   <g id=\"patch_6\">\r\n    <path d=\"M 36.465625 7.2 \r\nL 371.265625 7.2 \r\n\" style=\"fill:none;stroke:#000000;stroke-linecap:square;stroke-linejoin:miter;stroke-width:0.8;\"/>\r\n   </g>\r\n  </g>\r\n </g>\r\n <defs>\r\n  <clipPath id=\"pa61bd74969\">\r\n   <rect height=\"217.44\" width=\"334.8\" x=\"36.465625\" y=\"7.2\"/>\r\n  </clipPath>\r\n </defs>\r\n</svg>\r\n",
      "image/png": "[encoded data removed]"
     },
     "metadata": {
      "needs_background": "light"
     }
    }
   ],
   "source": [
    "ahihi = history.history\n",
    "import matplotlib.pyplot as plt \n",
    "plt.plot(ahihi['loss'], '-', c = 'red')\n",
    "plt.plot(ahihi['val_loss'], '--', c = 'blue')\n",
    "plt.show()"
   ]
  },
  {
   "cell_type": "code",
   "execution_count": 47,
   "metadata": {},
   "outputs": [
    {
     "output_type": "execute_result",
     "data": {
      "text/plain": [
       "array([[-5.303872 ],\n",
       "       [-5.4975204],\n",
       "       [-8.426384 ],\n",
       "       ...,\n",
       "       [-2.893786 ],\n",
       "       [-3.460329 ],\n",
       "       [-7.189295 ]], dtype=float32)"
      ]
     },
     "metadata": {},
     "execution_count": 47
    }
   ],
   "source": [
    "y_predict = my_model.predict(np.array(X_test))\n",
    "evaluate = my_model.evaluate(X_test, y_test, verbose = 0)\n",
    "y_predict\n"
   ]
  },
  {
   "cell_type": "code",
   "execution_count": 48,
   "metadata": {},
   "outputs": [
    {
     "output_type": "stream",
     "name": "stdout",
     "text": [
      "[0.0049477]  vs  0\n[0.0040802]  vs  0\n[0.00021896]  vs  0\n[0.25775924]  vs  1\n[0.0431484]  vs  0\n[0.0037113]  vs  0\n[0.0135661]  vs  0\n[0.00253177]  vs  0\n[0.00396134]  vs  0\n[0.0021342]  vs  0\n[0.01161144]  vs  0\n[0.04364746]  vs  0\n[0.005334]  vs  0\n[0.14639021]  vs  0\n[0.00062326]  vs  0\n[0.04353936]  vs  0\n[0.00058521]  vs  0\n[0.00355092]  vs  0\n[0.0073179]  vs  0\n[0.00052845]  vs  0\n[0.00718082]  vs  0\n[0.01658342]  vs  0\n[0.17093797]  vs  0\n[0.00056373]  vs  0\n[0.002361]  vs  0\n[0.02064084]  vs  0\n[0.00019489]  vs  0\n[0.02549975]  vs  0\n[0.16592185]  vs  0\n[0.1475988]  vs  1\n[0.00899772]  vs  0\n[0.00276427]  vs  0\n[0.00037626]  vs  0\n[0.00093044]  vs  0\n[0.00127796]  vs  0\n[0.00104167]  vs  0\n[0.00026957]  vs  0\n[0.03717208]  vs  1\n[0.00253696]  vs  0\n[0.0008276]  vs  0\n[0.00807761]  vs  0\n[0.17249236]  vs  0\n[0.00021786]  vs  0\n[0.00750595]  vs  0\n[7.963503e-05]  vs  0\n[0.00495114]  vs  0\n[0.00069265]  vs  0\n[0.51199466]  vs  0\n[0.0119034]  vs  0\n[0.00610442]  vs  0\n[0.00060351]  vs  0\n[0.00461908]  vs  0\n[0.06166087]  vs  0\n[0.00153727]  vs  0\n[0.00309422]  vs  0\n[0.0125271]  vs  0\n[0.00081764]  vs  0\n[0.0037729]  vs  0\n[0.00492337]  vs  0\n[0.01274184]  vs  0\n[0.00305839]  vs  0\n[0.00177897]  vs  0\n[0.0027433]  vs  0\n[0.00147762]  vs  0\n[0.06984053]  vs  0\n[0.31210598]  vs  1\n[0.00697304]  vs  0\n[0.02586913]  vs  1\n[0.10547453]  vs  1\n[0.09610683]  vs  0\n[0.00423119]  vs  0\n[0.00122774]  vs  0\n[0.00667935]  vs  0\n[0.00066869]  vs  0\n[0.05629099]  vs  0\n[0.04444474]  vs  0\n[0.02373305]  vs  0\n[0.00559936]  vs  0\n[0.00438074]  vs  0\n[0.00101703]  vs  0\n[0.00012638]  vs  0\n[6.6293454e-05]  vs  0\n[0.00948391]  vs  0\n[0.22961843]  vs  0\n[0.00052729]  vs  0\n[0.00829082]  vs  0\n[0.00048081]  vs  0\n[0.00218203]  vs  0\n[0.03148657]  vs  0\n[0.05974453]  vs  0\n[0.00071206]  vs  0\n[0.01770631]  vs  0\n[8.754682e-06]  vs  0\n[0.00528486]  vs  0\n[0.11627999]  vs  0\n[0.03315379]  vs  0\n[0.00132103]  vs  0\n[0.00036707]  vs  0\n[0.01331665]  vs  0\n[0.0103049]  vs  0\n"
     ]
    }
   ],
   "source": [
    "probability_model = tf.keras.Sequential([my_model, layers.Activation('sigmoid')])\n",
    "\n",
    "y_predict = probability_model.predict(X_test)\n",
    "for i in range (100):\n",
    "    print(y_predict[i], ' vs ', y_test[i])"
   ]
  },
  {
   "cell_type": "code",
   "execution_count": 51,
   "metadata": {},
   "outputs": [
    {
     "output_type": "stream",
     "name": "stdout",
     "text": [
      "INFO:tensorflow:Assets written to: my_model\\assets\n"
     ]
    }
   ],
   "source": [
    "my_model.save('my_model')\n",
    "reloaded = tf.keras.models.load_model('my_model')"
   ]
  },
  {
   "cell_type": "code",
   "execution_count": 55,
   "metadata": {},
   "outputs": [
    {
     "output_type": "execute_result",
     "data": {
      "text/plain": [
       "[0.11356145888566971, 0.9677419066429138]"
      ]
     },
     "metadata": {},
     "execution_count": 55
    }
   ],
   "source": [
    "score = reloaded.evaluate(X_test, y_test,verbose = 0)\n",
    "score"
   ]
  },
  {
   "cell_type": "code",
   "execution_count": 57,
   "metadata": {},
   "outputs": [],
   "source": [
    "y_predict = reloaded.predict(X_test)\n"
   ]
  }
 ]
}